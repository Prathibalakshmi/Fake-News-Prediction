{
 "cells": [
  {
   "cell_type": "markdown",
   "metadata": {},
   "source": [
    "#### Import libraries"
   ]
  },
  {
   "cell_type": "code",
   "execution_count": 2,
   "metadata": {
    "execution": {
     "iopub.execute_input": "2023-12-12T07:36:56.333808Z",
     "iopub.status.busy": "2023-12-12T07:36:56.331831Z",
     "iopub.status.idle": "2023-12-12T07:36:57.843263Z",
     "shell.execute_reply": "2023-12-12T07:36:57.841692Z",
     "shell.execute_reply.started": "2023-12-12T07:36:56.333740Z"
    }
   },
   "outputs": [],
   "source": [
    "import numpy as np\n",
    "import pandas as pd\n",
    "import re# regular expression---> used for searching a text in a document\n",
    "from nltk.corpus import stopwords#corpus----> body of the text;nltk--->natural language toolkit;stopwords---> words that doesnt add much value to the text\n",
    "from nltk.stem.porter import PorterStemmer#stemming removes the prefix and suffix of a word and returns the root word of it.\n",
    "from sklearn.feature_extraction.text import TfidfVectorizer#TfidVectorization--->converts the text into feature vector(number)\n",
    "from sklearn.model_selection import train_test_split# helps in splitting the data into training and testing data\n",
    "from sklearn.metrics import accuracy_score\n",
    "from sklearn.linear_model import LogisticRegression\n"
   ]
  },
  {
   "cell_type": "code",
   "execution_count": 3,
   "metadata": {
    "execution": {
     "iopub.execute_input": "2023-12-12T07:36:57.846270Z",
     "iopub.status.busy": "2023-12-12T07:36:57.845823Z",
     "iopub.status.idle": "2023-12-12T07:36:57.947851Z",
     "shell.execute_reply": "2023-12-12T07:36:57.946280Z",
     "shell.execute_reply.started": "2023-12-12T07:36:57.846229Z"
    }
   },
   "outputs": [
    {
     "name": "stdout",
     "output_type": "stream",
     "text": [
      "[nltk_data] Downloading package stopwords to /usr/share/nltk_data...\n",
      "[nltk_data]   Package stopwords is already up-to-date!\n"
     ]
    },
    {
     "data": {
      "text/plain": [
       "True"
      ]
     },
     "execution_count": 3,
     "metadata": {},
     "output_type": "execute_result"
    }
   ],
   "source": [
    "import nltk\n",
    "nltk.download('stopwords')"
   ]
  },
  {
   "cell_type": "markdown",
   "metadata": {},
   "source": [
    "### Printing the stop words in English"
   ]
  },
  {
   "cell_type": "code",
   "execution_count": 4,
   "metadata": {
    "execution": {
     "iopub.execute_input": "2023-12-12T07:36:58.431017Z",
     "iopub.status.busy": "2023-12-12T07:36:58.430442Z",
     "iopub.status.idle": "2023-12-12T07:36:58.443789Z",
     "shell.execute_reply": "2023-12-12T07:36:58.441928Z",
     "shell.execute_reply.started": "2023-12-12T07:36:58.430969Z"
    }
   },
   "outputs": [
    {
     "name": "stdout",
     "output_type": "stream",
     "text": [
      "['i', 'me', 'my', 'myself', 'we', 'our', 'ours', 'ourselves', 'you', \"you're\", \"you've\", \"you'll\", \"you'd\", 'your', 'yours', 'yourself', 'yourselves', 'he', 'him', 'his', 'himself', 'she', \"she's\", 'her', 'hers', 'herself', 'it', \"it's\", 'its', 'itself', 'they', 'them', 'their', 'theirs', 'themselves', 'what', 'which', 'who', 'whom', 'this', 'that', \"that'll\", 'these', 'those', 'am', 'is', 'are', 'was', 'were', 'be', 'been', 'being', 'have', 'has', 'had', 'having', 'do', 'does', 'did', 'doing', 'a', 'an', 'the', 'and', 'but', 'if', 'or', 'because', 'as', 'until', 'while', 'of', 'at', 'by', 'for', 'with', 'about', 'against', 'between', 'into', 'through', 'during', 'before', 'after', 'above', 'below', 'to', 'from', 'up', 'down', 'in', 'out', 'on', 'off', 'over', 'under', 'again', 'further', 'then', 'once', 'here', 'there', 'when', 'where', 'why', 'how', 'all', 'any', 'both', 'each', 'few', 'more', 'most', 'other', 'some', 'such', 'no', 'nor', 'not', 'only', 'own', 'same', 'so', 'than', 'too', 'very', 's', 't', 'can', 'will', 'just', 'don', \"don't\", 'should', \"should've\", 'now', 'd', 'll', 'm', 'o', 're', 've', 'y', 'ain', 'aren', \"aren't\", 'couldn', \"couldn't\", 'didn', \"didn't\", 'doesn', \"doesn't\", 'hadn', \"hadn't\", 'hasn', \"hasn't\", 'haven', \"haven't\", 'isn', \"isn't\", 'ma', 'mightn', \"mightn't\", 'mustn', \"mustn't\", 'needn', \"needn't\", 'shan', \"shan't\", 'shouldn', \"shouldn't\", 'wasn', \"wasn't\", 'weren', \"weren't\", 'won', \"won't\", 'wouldn', \"wouldn't\"]\n"
     ]
    }
   ],
   "source": [
    "print(stopwords.words('english'))"
   ]
  },
  {
   "cell_type": "markdown",
   "metadata": {},
   "source": [
    "### Data Pre-Processing"
   ]
  },
  {
   "cell_type": "code",
   "execution_count": 5,
   "metadata": {
    "execution": {
     "iopub.execute_input": "2023-12-12T07:36:59.056253Z",
     "iopub.status.busy": "2023-12-12T07:36:59.055001Z",
     "iopub.status.idle": "2023-12-12T07:37:02.247060Z",
     "shell.execute_reply": "2023-12-12T07:37:02.245624Z",
     "shell.execute_reply.started": "2023-12-12T07:36:59.056200Z"
    }
   },
   "outputs": [],
   "source": [
    "#Loading the dataset to a pandas DataFrame\n",
    "news_dataset=pd.read_csv('/kaggle/input/fake-news/train.csv')"
   ]
  },
  {
   "cell_type": "code",
   "execution_count": 6,
   "metadata": {
    "execution": {
     "iopub.execute_input": "2023-12-12T07:37:02.252425Z",
     "iopub.status.busy": "2023-12-12T07:37:02.250996Z",
     "iopub.status.idle": "2023-12-12T07:37:02.261382Z",
     "shell.execute_reply": "2023-12-12T07:37:02.260088Z",
     "shell.execute_reply.started": "2023-12-12T07:37:02.252361Z"
    }
   },
   "outputs": [
    {
     "data": {
      "text/plain": [
       "(20800, 5)"
      ]
     },
     "execution_count": 6,
     "metadata": {},
     "output_type": "execute_result"
    }
   ],
   "source": [
    "news_dataset.shape"
   ]
  },
  {
   "cell_type": "markdown",
   "metadata": {},
   "source": [
    "### we have 20,800 news article and 5 features"
   ]
  },
  {
   "cell_type": "code",
   "execution_count": 7,
   "metadata": {
    "execution": {
     "iopub.execute_input": "2023-12-12T07:37:02.263848Z",
     "iopub.status.busy": "2023-12-12T07:37:02.263303Z",
     "iopub.status.idle": "2023-12-12T07:37:02.300657Z",
     "shell.execute_reply": "2023-12-12T07:37:02.299056Z",
     "shell.execute_reply.started": "2023-12-12T07:37:02.263794Z"
    }
   },
   "outputs": [
    {
     "data": {
      "text/html": [
       "<div>\n",
       "<style scoped>\n",
       "    .dataframe tbody tr th:only-of-type {\n",
       "        vertical-align: middle;\n",
       "    }\n",
       "\n",
       "    .dataframe tbody tr th {\n",
       "        vertical-align: top;\n",
       "    }\n",
       "\n",
       "    .dataframe thead th {\n",
       "        text-align: right;\n",
       "    }\n",
       "</style>\n",
       "<table border=\"1\" class=\"dataframe\">\n",
       "  <thead>\n",
       "    <tr style=\"text-align: right;\">\n",
       "      <th></th>\n",
       "      <th>id</th>\n",
       "      <th>title</th>\n",
       "      <th>author</th>\n",
       "      <th>text</th>\n",
       "      <th>label</th>\n",
       "    </tr>\n",
       "  </thead>\n",
       "  <tbody>\n",
       "    <tr>\n",
       "      <th>0</th>\n",
       "      <td>0</td>\n",
       "      <td>House Dem Aide: We Didn’t Even See Comey’s Let...</td>\n",
       "      <td>Darrell Lucus</td>\n",
       "      <td>House Dem Aide: We Didn’t Even See Comey’s Let...</td>\n",
       "      <td>1</td>\n",
       "    </tr>\n",
       "    <tr>\n",
       "      <th>1</th>\n",
       "      <td>1</td>\n",
       "      <td>FLYNN: Hillary Clinton, Big Woman on Campus - ...</td>\n",
       "      <td>Daniel J. Flynn</td>\n",
       "      <td>Ever get the feeling your life circles the rou...</td>\n",
       "      <td>0</td>\n",
       "    </tr>\n",
       "    <tr>\n",
       "      <th>2</th>\n",
       "      <td>2</td>\n",
       "      <td>Why the Truth Might Get You Fired</td>\n",
       "      <td>Consortiumnews.com</td>\n",
       "      <td>Why the Truth Might Get You Fired October 29, ...</td>\n",
       "      <td>1</td>\n",
       "    </tr>\n",
       "    <tr>\n",
       "      <th>3</th>\n",
       "      <td>3</td>\n",
       "      <td>15 Civilians Killed In Single US Airstrike Hav...</td>\n",
       "      <td>Jessica Purkiss</td>\n",
       "      <td>Videos 15 Civilians Killed In Single US Airstr...</td>\n",
       "      <td>1</td>\n",
       "    </tr>\n",
       "    <tr>\n",
       "      <th>4</th>\n",
       "      <td>4</td>\n",
       "      <td>Iranian woman jailed for fictional unpublished...</td>\n",
       "      <td>Howard Portnoy</td>\n",
       "      <td>Print \\nAn Iranian woman has been sentenced to...</td>\n",
       "      <td>1</td>\n",
       "    </tr>\n",
       "  </tbody>\n",
       "</table>\n",
       "</div>"
      ],
      "text/plain": [
       "   id                                              title              author  \\\n",
       "0   0  House Dem Aide: We Didn’t Even See Comey’s Let...       Darrell Lucus   \n",
       "1   1  FLYNN: Hillary Clinton, Big Woman on Campus - ...     Daniel J. Flynn   \n",
       "2   2                  Why the Truth Might Get You Fired  Consortiumnews.com   \n",
       "3   3  15 Civilians Killed In Single US Airstrike Hav...     Jessica Purkiss   \n",
       "4   4  Iranian woman jailed for fictional unpublished...      Howard Portnoy   \n",
       "\n",
       "                                                text  label  \n",
       "0  House Dem Aide: We Didn’t Even See Comey’s Let...      1  \n",
       "1  Ever get the feeling your life circles the rou...      0  \n",
       "2  Why the Truth Might Get You Fired October 29, ...      1  \n",
       "3  Videos 15 Civilians Killed In Single US Airstr...      1  \n",
       "4  Print \\nAn Iranian woman has been sentenced to...      1  "
      ]
     },
     "execution_count": 7,
     "metadata": {},
     "output_type": "execute_result"
    }
   ],
   "source": [
    "# print 5rows\n",
    "news_dataset.head()"
   ]
  },
  {
   "cell_type": "markdown",
   "metadata": {},
   "source": [
    "#### Checking the missing values"
   ]
  },
  {
   "cell_type": "code",
   "execution_count": 8,
   "metadata": {
    "execution": {
     "iopub.execute_input": "2023-12-12T07:37:02.304050Z",
     "iopub.status.busy": "2023-12-12T07:37:02.303466Z",
     "iopub.status.idle": "2023-12-12T07:37:02.327688Z",
     "shell.execute_reply": "2023-12-12T07:37:02.326051Z",
     "shell.execute_reply.started": "2023-12-12T07:37:02.303993Z"
    }
   },
   "outputs": [
    {
     "data": {
      "text/plain": [
       "id           0\n",
       "title      558\n",
       "author    1957\n",
       "text        39\n",
       "label        0\n",
       "dtype: int64"
      ]
     },
     "execution_count": 8,
     "metadata": {},
     "output_type": "execute_result"
    }
   ],
   "source": [
    "news_dataset.isnull().sum()"
   ]
  },
  {
   "cell_type": "markdown",
   "metadata": {},
   "source": [
    "### Replacing the missing values with empty string"
   ]
  },
  {
   "cell_type": "code",
   "execution_count": 9,
   "metadata": {
    "execution": {
     "iopub.execute_input": "2023-12-12T07:37:02.332853Z",
     "iopub.status.busy": "2023-12-12T07:37:02.332243Z",
     "iopub.status.idle": "2023-12-12T07:37:02.353888Z",
     "shell.execute_reply": "2023-12-12T07:37:02.352192Z",
     "shell.execute_reply.started": "2023-12-12T07:37:02.332795Z"
    }
   },
   "outputs": [],
   "source": [
    "news_dataset=news_dataset.fillna('')"
   ]
  },
  {
   "cell_type": "markdown",
   "metadata": {},
   "source": [
    "### Merging the author name and news title"
   ]
  },
  {
   "cell_type": "code",
   "execution_count": 10,
   "metadata": {
    "execution": {
     "iopub.execute_input": "2023-12-12T07:37:02.358543Z",
     "iopub.status.busy": "2023-12-12T07:37:02.358077Z",
     "iopub.status.idle": "2023-12-12T07:37:02.386516Z",
     "shell.execute_reply": "2023-12-12T07:37:02.384847Z",
     "shell.execute_reply.started": "2023-12-12T07:37:02.358494Z"
    }
   },
   "outputs": [
    {
     "name": "stdout",
     "output_type": "stream",
     "text": [
      "0        Darrell Lucus  House Dem Aide: We Didn’t Even ...\n",
      "1        Daniel J. Flynn  FLYNN: Hillary Clinton, Big W...\n",
      "2        Consortiumnews.com  Why the Truth Might Get Yo...\n",
      "3        Jessica Purkiss  15 Civilians Killed In Single...\n",
      "4        Howard Portnoy  Iranian woman jailed for ficti...\n",
      "                               ...                        \n",
      "20795    Jerome Hudson  Rapper T.I.: Trump a ’Poster Ch...\n",
      "20796    Benjamin Hoffman  N.F.L. Playoffs: Schedule, M...\n",
      "20797    Michael J. de la Merced and Rachel Abrams  Mac...\n",
      "20798    Alex Ansary  NATO, Russia To Hold Parallel Exe...\n",
      "20799             David Swanson  What Keeps the F-35 Alive\n",
      "Name: content, Length: 20800, dtype: object\n"
     ]
    }
   ],
   "source": [
    "# + concatenates both the columns\n",
    "news_dataset['content']=news_dataset['author']+'  '+news_dataset['title']\n",
    "print(news_dataset['content'])"
   ]
  },
  {
   "cell_type": "code",
   "execution_count": 11,
   "metadata": {
    "execution": {
     "iopub.execute_input": "2023-12-12T07:37:02.388531Z",
     "iopub.status.busy": "2023-12-12T07:37:02.388043Z",
     "iopub.status.idle": "2023-12-12T07:37:02.421469Z",
     "shell.execute_reply": "2023-12-12T07:37:02.419645Z",
     "shell.execute_reply.started": "2023-12-12T07:37:02.388488Z"
    }
   },
   "outputs": [
    {
     "name": "stdout",
     "output_type": "stream",
     "text": [
      "          id                                              title  \\\n",
      "0          0  House Dem Aide: We Didn’t Even See Comey’s Let...   \n",
      "1          1  FLYNN: Hillary Clinton, Big Woman on Campus - ...   \n",
      "2          2                  Why the Truth Might Get You Fired   \n",
      "3          3  15 Civilians Killed In Single US Airstrike Hav...   \n",
      "4          4  Iranian woman jailed for fictional unpublished...   \n",
      "...      ...                                                ...   \n",
      "20795  20795  Rapper T.I.: Trump a ’Poster Child For White S...   \n",
      "20796  20796  N.F.L. Playoffs: Schedule, Matchups and Odds -...   \n",
      "20797  20797  Macy’s Is Said to Receive Takeover Approach by...   \n",
      "20798  20798  NATO, Russia To Hold Parallel Exercises In Bal...   \n",
      "20799  20799                          What Keeps the F-35 Alive   \n",
      "\n",
      "                                          author  \\\n",
      "0                                  Darrell Lucus   \n",
      "1                                Daniel J. Flynn   \n",
      "2                             Consortiumnews.com   \n",
      "3                                Jessica Purkiss   \n",
      "4                                 Howard Portnoy   \n",
      "...                                          ...   \n",
      "20795                              Jerome Hudson   \n",
      "20796                           Benjamin Hoffman   \n",
      "20797  Michael J. de la Merced and Rachel Abrams   \n",
      "20798                                Alex Ansary   \n",
      "20799                              David Swanson   \n",
      "\n",
      "                                                    text  \\\n",
      "0      House Dem Aide: We Didn’t Even See Comey’s Let...   \n",
      "1      Ever get the feeling your life circles the rou...   \n",
      "2      Why the Truth Might Get You Fired October 29, ...   \n",
      "3      Videos 15 Civilians Killed In Single US Airstr...   \n",
      "4      Print \\nAn Iranian woman has been sentenced to...   \n",
      "...                                                  ...   \n",
      "20795  Rapper T. I. unloaded on black celebrities who...   \n",
      "20796  When the Green Bay Packers lost to the Washing...   \n",
      "20797  The Macy’s of today grew from the union of sev...   \n",
      "20798  NATO, Russia To Hold Parallel Exercises In Bal...   \n",
      "20799    David Swanson is an author, activist, journa...   \n",
      "\n",
      "                                                 content  \n",
      "0      Darrell Lucus  House Dem Aide: We Didn’t Even ...  \n",
      "1      Daniel J. Flynn  FLYNN: Hillary Clinton, Big W...  \n",
      "2      Consortiumnews.com  Why the Truth Might Get Yo...  \n",
      "3      Jessica Purkiss  15 Civilians Killed In Single...  \n",
      "4      Howard Portnoy  Iranian woman jailed for ficti...  \n",
      "...                                                  ...  \n",
      "20795  Jerome Hudson  Rapper T.I.: Trump a ’Poster Ch...  \n",
      "20796  Benjamin Hoffman  N.F.L. Playoffs: Schedule, M...  \n",
      "20797  Michael J. de la Merced and Rachel Abrams  Mac...  \n",
      "20798  Alex Ansary  NATO, Russia To Hold Parallel Exe...  \n",
      "20799           David Swanson  What Keeps the F-35 Alive  \n",
      "\n",
      "[20800 rows x 5 columns]\n",
      "0        1\n",
      "1        0\n",
      "2        1\n",
      "3        1\n",
      "4        1\n",
      "        ..\n",
      "20795    0\n",
      "20796    0\n",
      "20797    0\n",
      "20798    1\n",
      "20799    1\n",
      "Name: label, Length: 20800, dtype: int64\n"
     ]
    }
   ],
   "source": [
    "#separate the data(content column) and the label\n",
    "X=news_dataset.drop(columns='label',axis=1)\n",
    "y=news_dataset['label']\n",
    "print(X)\n",
    "print(y)"
   ]
  },
  {
   "cell_type": "markdown",
   "metadata": {},
   "source": [
    "### Stemming:\n",
    "#### Stemming is a process of reducing a word to its Root word\n",
    "Eg: actor,acting,actress----> root word is \"act\""
   ]
  },
  {
   "cell_type": "code",
   "execution_count": 12,
   "metadata": {
    "execution": {
     "iopub.execute_input": "2023-12-12T07:37:02.424329Z",
     "iopub.status.busy": "2023-12-12T07:37:02.423759Z",
     "iopub.status.idle": "2023-12-12T07:37:02.431305Z",
     "shell.execute_reply": "2023-12-12T07:37:02.429570Z",
     "shell.execute_reply.started": "2023-12-12T07:37:02.424273Z"
    }
   },
   "outputs": [],
   "source": [
    " port_stem=PorterStemmer()\n",
    "    "
   ]
  },
  {
   "cell_type": "code",
   "execution_count": 13,
   "metadata": {
    "execution": {
     "iopub.execute_input": "2023-12-12T07:37:02.435292Z",
     "iopub.status.busy": "2023-12-12T07:37:02.433292Z",
     "iopub.status.idle": "2023-12-12T07:37:02.445785Z",
     "shell.execute_reply": "2023-12-12T07:37:02.444271Z",
     "shell.execute_reply.started": "2023-12-12T07:37:02.435220Z"
    }
   },
   "outputs": [],
   "source": [
    "def stemming(content):\n",
    "    stemmed_content= re.sub('[^a-zA-z]', ' ',content)#^---->excludes all the numbers and punctuations and prints onlt alphabets from the content column; ' '--> if there are any numbers they are denoted by space\n",
    "    stemmed_content=stemmed_content.lower()#converts every text to lower\n",
    "    stemmed_content=stemmed_content.split()#all the words and text are converted as list\n",
    "    stemmed_content=[port_stem.stem(word) for word in stemmed_content if not word in stopwords.words('english')]# performs stemming function for all words except stopwords\n",
    "    stemmed_content=' '.join(stemmed_content)#join all the words in the stem content\n",
    "    return stemmed_content\n",
    "    "
   ]
  },
  {
   "cell_type": "code",
   "execution_count": 14,
   "metadata": {
    "execution": {
     "iopub.execute_input": "2023-12-12T07:37:02.448165Z",
     "iopub.status.busy": "2023-12-12T07:37:02.447501Z",
     "iopub.status.idle": "2023-12-12T07:38:02.640936Z",
     "shell.execute_reply": "2023-12-12T07:38:02.639278Z",
     "shell.execute_reply.started": "2023-12-12T07:37:02.448116Z"
    }
   },
   "outputs": [],
   "source": [
    "news_dataset['content']=news_dataset['content'].apply(stemming)"
   ]
  },
  {
   "cell_type": "code",
   "execution_count": 15,
   "metadata": {
    "execution": {
     "iopub.execute_input": "2023-12-12T07:38:02.642933Z",
     "iopub.status.busy": "2023-12-12T07:38:02.642511Z",
     "iopub.status.idle": "2023-12-12T07:38:02.653837Z",
     "shell.execute_reply": "2023-12-12T07:38:02.652091Z",
     "shell.execute_reply.started": "2023-12-12T07:38:02.642892Z"
    }
   },
   "outputs": [
    {
     "name": "stdout",
     "output_type": "stream",
     "text": [
      "0        darrel lucu hous dem aid even see comey letter...\n",
      "1        daniel j flynn flynn hillari clinton big woman...\n",
      "2                   consortiumnew com truth might get fire\n",
      "3        jessica purkiss civilian kill singl us airstri...\n",
      "4        howard portnoy iranian woman jail fiction unpu...\n",
      "                               ...                        \n",
      "20795    jerom hudson rapper trump poster child white s...\n",
      "20796    benjamin hoffman n f l playoff schedul matchup...\n",
      "20797    michael j de la merc rachel abram maci said re...\n",
      "20798    alex ansari nato russia hold parallel exercis ...\n",
      "20799                            david swanson keep f aliv\n",
      "Name: content, Length: 20800, dtype: object\n"
     ]
    }
   ],
   "source": [
    "print(news_dataset['content'])"
   ]
  },
  {
   "cell_type": "markdown",
   "metadata": {},
   "source": [
    "### There is no uppercase letter,quotations,stopwords"
   ]
  },
  {
   "cell_type": "markdown",
   "metadata": {},
   "source": [
    "### Separating Data and label"
   ]
  },
  {
   "cell_type": "code",
   "execution_count": 16,
   "metadata": {
    "execution": {
     "iopub.execute_input": "2023-12-12T07:38:02.659354Z",
     "iopub.status.busy": "2023-12-12T07:38:02.658885Z",
     "iopub.status.idle": "2023-12-12T07:38:02.670713Z",
     "shell.execute_reply": "2023-12-12T07:38:02.668994Z",
     "shell.execute_reply.started": "2023-12-12T07:38:02.659293Z"
    }
   },
   "outputs": [],
   "source": [
    "X=news_dataset['content'].values# previous x values are hided\n",
    "y=news_dataset['label'].values"
   ]
  },
  {
   "cell_type": "code",
   "execution_count": 17,
   "metadata": {
    "execution": {
     "iopub.execute_input": "2023-12-12T07:38:02.673200Z",
     "iopub.status.busy": "2023-12-12T07:38:02.672675Z",
     "iopub.status.idle": "2023-12-12T07:38:02.684994Z",
     "shell.execute_reply": "2023-12-12T07:38:02.683669Z",
     "shell.execute_reply.started": "2023-12-12T07:38:02.673154Z"
    }
   },
   "outputs": [
    {
     "name": "stdout",
     "output_type": "stream",
     "text": [
      "['darrel lucu hous dem aid even see comey letter jason chaffetz tweet'\n",
      " 'daniel j flynn flynn hillari clinton big woman campu breitbart'\n",
      " 'consortiumnew com truth might get fire' ...\n",
      " 'michael j de la merc rachel abram maci said receiv takeov approach hudson bay new york time'\n",
      " 'alex ansari nato russia hold parallel exercis balkan'\n",
      " 'david swanson keep f aliv']\n",
      "[1 0 1 ... 0 1 1]\n"
     ]
    }
   ],
   "source": [
    "print(X)\n",
    "print(y)\n"
   ]
  },
  {
   "cell_type": "code",
   "execution_count": 18,
   "metadata": {
    "execution": {
     "iopub.execute_input": "2023-12-12T07:38:02.688291Z",
     "iopub.status.busy": "2023-12-12T07:38:02.687658Z",
     "iopub.status.idle": "2023-12-12T07:38:02.699454Z",
     "shell.execute_reply": "2023-12-12T07:38:02.697679Z",
     "shell.execute_reply.started": "2023-12-12T07:38:02.688232Z"
    }
   },
   "outputs": [
    {
     "data": {
      "text/plain": [
       "(20800,)"
      ]
     },
     "execution_count": 18,
     "metadata": {},
     "output_type": "execute_result"
    }
   ],
   "source": [
    "y.shape"
   ]
  },
  {
   "cell_type": "markdown",
   "metadata": {},
   "source": [
    "### Converting textual data into numerical data"
   ]
  },
  {
   "cell_type": "code",
   "execution_count": 19,
   "metadata": {
    "execution": {
     "iopub.execute_input": "2023-12-12T07:38:02.702379Z",
     "iopub.status.busy": "2023-12-12T07:38:02.701664Z",
     "iopub.status.idle": "2023-12-12T07:38:03.543349Z",
     "shell.execute_reply": "2023-12-12T07:38:03.541807Z",
     "shell.execute_reply.started": "2023-12-12T07:38:02.702333Z"
    }
   },
   "outputs": [
    {
     "name": "stdout",
     "output_type": "stream",
     "text": [
      "  (0, 15697)\t0.28485063562728646\n",
      "  (0, 13480)\t0.2565896679337957\n",
      "  (0, 8915)\t0.3635963806326075\n",
      "  (0, 8636)\t0.29212514087043684\n",
      "  (0, 7698)\t0.24785219520671603\n",
      "  (0, 7012)\t0.21874169089359144\n",
      "  (0, 4979)\t0.233316966909351\n",
      "  (0, 3795)\t0.2705332480845492\n",
      "  (0, 3603)\t0.3598939188262559\n",
      "  (0, 2962)\t0.2468450128533713\n",
      "  (0, 2485)\t0.3676519686797209\n",
      "  (0, 268)\t0.27010124977708766\n",
      "  (1, 16812)\t0.30071745655510157\n",
      "  (1, 6823)\t0.1904660198296849\n",
      "  (1, 5510)\t0.7143299355715573\n",
      "  (1, 3571)\t0.26373768806048464\n",
      "  (1, 2816)\t0.19094574062359204\n",
      "  (1, 2224)\t0.3827320386859759\n",
      "  (1, 1895)\t0.15521974226349364\n",
      "  (1, 1498)\t0.2939891562094648\n",
      "  (2, 15622)\t0.41544962664721613\n",
      "  (2, 9625)\t0.49351492943649944\n",
      "  (2, 5975)\t0.3474613386728292\n",
      "  (2, 5396)\t0.3866530551182615\n",
      "  (2, 3106)\t0.46097489583229645\n",
      "  :\t:\n",
      "  (20797, 13128)\t0.2482526352197606\n",
      "  (20797, 12350)\t0.27263457663336677\n",
      "  (20797, 12144)\t0.24778257724396507\n",
      "  (20797, 10311)\t0.08038079000566466\n",
      "  (20797, 9593)\t0.174553480255222\n",
      "  (20797, 9523)\t0.2954204003420313\n",
      "  (20797, 8994)\t0.36160868928090795\n",
      "  (20797, 8370)\t0.22322585870464118\n",
      "  (20797, 7049)\t0.21799048897828688\n",
      "  (20797, 3646)\t0.21155500613623743\n",
      "  (20797, 1288)\t0.33538056804139865\n",
      "  (20797, 700)\t0.30685846079762347\n",
      "  (20797, 44)\t0.29710241860700626\n",
      "  (20798, 13052)\t0.22363267488270608\n",
      "  (20798, 11057)\t0.4460515589182236\n",
      "  (20798, 10182)\t0.3192496370187028\n",
      "  (20798, 6896)\t0.32496285694299426\n",
      "  (20798, 5038)\t0.4083701450239529\n",
      "  (20798, 1126)\t0.4460515589182236\n",
      "  (20798, 589)\t0.3112141524638974\n",
      "  (20798, 351)\t0.28446937819072576\n",
      "  (20799, 14861)\t0.5677577267055112\n",
      "  (20799, 8042)\t0.45983893273780013\n",
      "  (20799, 3626)\t0.37927626273066584\n",
      "  (20799, 378)\t0.5677577267055112\n"
     ]
    }
   ],
   "source": [
    "vectorizer=TfidfVectorizer()#tf-->term frequency,Repeated words says that it is an important word and it assaigns a numerical value to that word.;idf---> inverse document frequency====> counts the number of times an insignificant word is repeated in the documnet. \n",
    "vectorizer.fit(X)#fitting with X\n",
    "X=vectorizer.transform(X)\n",
    "print(X)"
   ]
  },
  {
   "cell_type": "markdown",
   "metadata": {},
   "source": [
    "#### Splitting to Training and Text data"
   ]
  },
  {
   "cell_type": "code",
   "execution_count": 20,
   "metadata": {
    "execution": {
     "iopub.execute_input": "2023-12-12T07:38:03.546898Z",
     "iopub.status.busy": "2023-12-12T07:38:03.545220Z",
     "iopub.status.idle": "2023-12-12T07:38:03.571815Z",
     "shell.execute_reply": "2023-12-12T07:38:03.570094Z",
     "shell.execute_reply.started": "2023-12-12T07:38:03.546843Z"
    }
   },
   "outputs": [],
   "source": [
    "X_train,X_test,y_train,y_test=train_test_split(X,y,test_size=0.2,stratify=y,random_state=2)# test size=20%; labels of X_train is in y_train and labels of y_train is in y_test;\n"
   ]
  },
  {
   "cell_type": "markdown",
   "metadata": {},
   "source": [
    "#### Training the model"
   ]
  },
  {
   "cell_type": "code",
   "execution_count": 21,
   "metadata": {
    "execution": {
     "iopub.execute_input": "2023-12-12T07:38:03.574364Z",
     "iopub.status.busy": "2023-12-12T07:38:03.573683Z",
     "iopub.status.idle": "2023-12-12T07:38:03.582023Z",
     "shell.execute_reply": "2023-12-12T07:38:03.580411Z",
     "shell.execute_reply.started": "2023-12-12T07:38:03.574178Z"
    }
   },
   "outputs": [],
   "source": [
    "model=LogisticRegression()\n"
   ]
  },
  {
   "cell_type": "markdown",
   "metadata": {},
   "source": []
  },
  {
   "cell_type": "code",
   "execution_count": 22,
   "metadata": {
    "execution": {
     "iopub.execute_input": "2023-12-12T07:38:03.584091Z",
     "iopub.status.busy": "2023-12-12T07:38:03.583670Z",
     "iopub.status.idle": "2023-12-12T07:38:04.141683Z",
     "shell.execute_reply": "2023-12-12T07:38:04.139836Z",
     "shell.execute_reply.started": "2023-12-12T07:38:03.584054Z"
    }
   },
   "outputs": [
    {
     "data": {
      "text/plain": [
       "LogisticRegression()"
      ]
     },
     "execution_count": 22,
     "metadata": {},
     "output_type": "execute_result"
    }
   ],
   "source": [
    "model.fit(X_train,y_train)"
   ]
  },
  {
   "cell_type": "markdown",
   "metadata": {},
   "source": []
  },
  {
   "cell_type": "markdown",
   "metadata": {},
   "source": [
    "### Evaluation"
   ]
  },
  {
   "cell_type": "code",
   "execution_count": 23,
   "metadata": {
    "execution": {
     "iopub.execute_input": "2023-12-12T07:38:04.145745Z",
     "iopub.status.busy": "2023-12-12T07:38:04.144573Z",
     "iopub.status.idle": "2023-12-12T07:38:04.160454Z",
     "shell.execute_reply": "2023-12-12T07:38:04.158466Z",
     "shell.execute_reply.started": "2023-12-12T07:38:04.145661Z"
    }
   },
   "outputs": [],
   "source": [
    "# Accuracy score on the training data\n",
    "X_train_prediction=model.predict(X_train)\n",
    "training_data_accuracy=accuracy_score(X_train_prediction,y_train)# X_train_prediction--> value predicted by our model; y_train-->original label;both of them will be compared and accuracy score will be given\n"
   ]
  },
  {
   "cell_type": "markdown",
   "metadata": {},
   "source": []
  },
  {
   "cell_type": "code",
   "execution_count": 24,
   "metadata": {
    "execution": {
     "iopub.execute_input": "2023-12-12T07:38:04.164525Z",
     "iopub.status.busy": "2023-12-12T07:38:04.163371Z",
     "iopub.status.idle": "2023-12-12T07:38:04.174417Z",
     "shell.execute_reply": "2023-12-12T07:38:04.172387Z",
     "shell.execute_reply.started": "2023-12-12T07:38:04.164448Z"
    }
   },
   "outputs": [
    {
     "name": "stdout",
     "output_type": "stream",
     "text": [
      " accuracy score of Training data : 0.9864783653846154\n"
     ]
    }
   ],
   "source": [
    "print(\" accuracy score of Training data :\", training_data_accuracy)"
   ]
  },
  {
   "cell_type": "markdown",
   "metadata": {},
   "source": [
    "### Accuracy on Test data"
   ]
  },
  {
   "cell_type": "code",
   "execution_count": 25,
   "metadata": {
    "execution": {
     "iopub.execute_input": "2023-12-12T07:40:24.538770Z",
     "iopub.status.busy": "2023-12-12T07:40:24.538116Z",
     "iopub.status.idle": "2023-12-12T07:40:24.548500Z",
     "shell.execute_reply": "2023-12-12T07:40:24.547084Z",
     "shell.execute_reply.started": "2023-12-12T07:40:24.538690Z"
    }
   },
   "outputs": [],
   "source": [
    "X_test_prediction=model.predict(X_test)\n",
    "test_data_accuracy=accuracy_score(X_test_prediction,y_test)"
   ]
  },
  {
   "cell_type": "code",
   "execution_count": 26,
   "metadata": {
    "execution": {
     "iopub.execute_input": "2023-12-12T07:40:30.776298Z",
     "iopub.status.busy": "2023-12-12T07:40:30.775784Z",
     "iopub.status.idle": "2023-12-12T07:40:30.783413Z",
     "shell.execute_reply": "2023-12-12T07:40:30.782332Z",
     "shell.execute_reply.started": "2023-12-12T07:40:30.776252Z"
    }
   },
   "outputs": [
    {
     "name": "stdout",
     "output_type": "stream",
     "text": [
      "Accuracy score of Testing data : 0.9790865384615385\n"
     ]
    }
   ],
   "source": [
    "print(\"Accuracy score of Testing data :\", test_data_accuracy)"
   ]
  },
  {
   "cell_type": "markdown",
   "metadata": {},
   "source": [
    "### Making Prediction"
   ]
  },
  {
   "cell_type": "markdown",
   "metadata": {},
   "source": []
  },
  {
   "cell_type": "code",
   "execution_count": 27,
   "metadata": {
    "execution": {
     "iopub.execute_input": "2023-12-12T07:40:36.114916Z",
     "iopub.status.busy": "2023-12-12T07:40:36.114043Z",
     "iopub.status.idle": "2023-12-12T07:40:36.124386Z",
     "shell.execute_reply": "2023-12-12T07:40:36.122463Z",
     "shell.execute_reply.started": "2023-12-12T07:40:36.114867Z"
    }
   },
   "outputs": [
    {
     "name": "stdout",
     "output_type": "stream",
     "text": [
      "[1]\n",
      "The News is Fake\n"
     ]
    }
   ],
   "source": [
    "X_new=X_test[0]\n",
    "prediction=model.predict(X_new)\n",
    "print(prediction)\n",
    "if (prediction[0]==0):\n",
    "    print(\"The News is Real\")\n",
    "else:\n",
    "    print(\"The News is Fake\")"
   ]
  },
  {
   "cell_type": "code",
   "execution_count": 28,
   "metadata": {
    "execution": {
     "iopub.execute_input": "2023-12-12T07:40:37.128194Z",
     "iopub.status.busy": "2023-12-12T07:40:37.127645Z",
     "iopub.status.idle": "2023-12-12T07:40:37.136813Z",
     "shell.execute_reply": "2023-12-12T07:40:37.134971Z",
     "shell.execute_reply.started": "2023-12-12T07:40:37.128149Z"
    }
   },
   "outputs": [
    {
     "name": "stdout",
     "output_type": "stream",
     "text": [
      "1\n"
     ]
    }
   ],
   "source": [
    "# checking with the original\n",
    "print(y_test[0])"
   ]
  },
  {
   "cell_type": "code",
   "execution_count": null,
   "metadata": {},
   "outputs": [],
   "source": []
  },
  {
   "cell_type": "code",
   "execution_count": null,
   "metadata": {},
   "outputs": [],
   "source": []
  }
 ],
 "metadata": {
  "kaggle": {
   "accelerator": "none",
   "dataSources": [
    {
     "datasetId": 2997604,
     "sourceId": 5158562,
     "sourceType": "datasetVersion"
    }
   ],
   "dockerImageVersionId": 30407,
   "isGpuEnabled": false,
   "isInternetEnabled": true,
   "language": "python",
   "sourceType": "notebook"
  },
  "kernelspec": {
   "display_name": "Python 3",
   "language": "python",
   "name": "python3"
  },
  "language_info": {
   "codemirror_mode": {
    "name": "ipython",
    "version": 3
   },
   "file_extension": ".py",
   "mimetype": "text/x-python",
   "name": "python",
   "nbconvert_exporter": "python",
   "pygments_lexer": "ipython3",
   "version": "3.7.12"
  }
 },
 "nbformat": 4,
 "nbformat_minor": 4
}
